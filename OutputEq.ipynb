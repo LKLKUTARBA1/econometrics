{
 "cells": [
  {
   "cell_type": "markdown",
   "id": "d12197b7",
   "metadata": {},
   "source": [
    "# Задачи по Эконометрике: Интерпретация коэффициентов"
   ]
  },
  {
   "cell_type": "markdown",
   "id": "8e7749f4",
   "metadata": {},
   "source": [
    "Кутарба Лучия "
   ]
  },
  {
   "cell_type": "markdown",
   "id": "3e0f1372",
   "metadata": {},
   "source": [
    "# Output Equation"
   ]
  },
  {
   "cell_type": "markdown",
   "id": "82c3bab7",
   "metadata": {},
   "source": [
    "# Output Equation (Модель 1)"
   ]
  },
  {
   "cell_type": "markdown",
   "id": "98c8ef31",
   "metadata": {},
   "source": [
    "На датасете Labour рассмотрим региессию log(output) на log(capital), log(labour)"
   ]
  },
  {
   "cell_type": "markdown",
   "id": "1206e2b7",
   "metadata": {},
   "source": [
    "Спецификация: $$ log(output) = \\beta_0 + \\beta_1log(capital) + \\beta_2log(labour) + u $$\n"
   ]
  },
  {
   "cell_type": "code",
   "execution_count": 2,
   "id": "41a39415",
   "metadata": {},
   "outputs": [],
   "source": [
    "import numpy as np # linear algebra \n",
    "import pandas as pd # data processing, CSV file I/O (e.g. pd.read_csv)\n",
    "# stats models: regression fitting via formulas\n",
    "import statsmodels.formula.api as smf\n",
    "# stats models: regression fitting via matrices of regression design\n",
    "import statsmodels.api as sm"
   ]
  },
  {
   "cell_type": "code",
   "execution_count": 3,
   "id": "b4dc082b",
   "metadata": {},
   "outputs": [
    {
     "data": {
      "text/html": [
       "<div>\n",
       "<style scoped>\n",
       "    .dataframe tbody tr th:only-of-type {\n",
       "        vertical-align: middle;\n",
       "    }\n",
       "\n",
       "    .dataframe tbody tr th {\n",
       "        vertical-align: top;\n",
       "    }\n",
       "\n",
       "    .dataframe thead th {\n",
       "        text-align: right;\n",
       "    }\n",
       "</style>\n",
       "<table border=\"1\" class=\"dataframe\">\n",
       "  <thead>\n",
       "    <tr style=\"text-align: right;\">\n",
       "      <th></th>\n",
       "      <th>capital</th>\n",
       "      <th>labour</th>\n",
       "      <th>output</th>\n",
       "      <th>wage</th>\n",
       "    </tr>\n",
       "  </thead>\n",
       "  <tbody>\n",
       "    <tr>\n",
       "      <th>0</th>\n",
       "      <td>2.606563</td>\n",
       "      <td>184</td>\n",
       "      <td>9.250759</td>\n",
       "      <td>43.080307</td>\n",
       "    </tr>\n",
       "    <tr>\n",
       "      <th>1</th>\n",
       "      <td>1.323237</td>\n",
       "      <td>91</td>\n",
       "      <td>3.664310</td>\n",
       "      <td>27.780016</td>\n",
       "    </tr>\n",
       "    <tr>\n",
       "      <th>2</th>\n",
       "      <td>22.093692</td>\n",
       "      <td>426</td>\n",
       "      <td>28.781516</td>\n",
       "      <td>44.467748</td>\n",
       "    </tr>\n",
       "    <tr>\n",
       "      <th>3</th>\n",
       "      <td>10.737851</td>\n",
       "      <td>72</td>\n",
       "      <td>4.124642</td>\n",
       "      <td>39.734710</td>\n",
       "    </tr>\n",
       "    <tr>\n",
       "      <th>4</th>\n",
       "      <td>1.161365</td>\n",
       "      <td>46</td>\n",
       "      <td>2.890150</td>\n",
       "      <td>34.650709</td>\n",
       "    </tr>\n",
       "  </tbody>\n",
       "</table>\n",
       "</div>"
      ],
      "text/plain": [
       "     capital  labour     output       wage\n",
       "0   2.606563     184   9.250759  43.080307\n",
       "1   1.323237      91   3.664310  27.780016\n",
       "2  22.093692     426  28.781516  44.467748\n",
       "3  10.737851      72   4.124642  39.734710\n",
       "4   1.161365      46   2.890150  34.650709"
      ]
     },
     "execution_count": 3,
     "metadata": {},
     "output_type": "execute_result"
    }
   ],
   "source": [
    "df = pd.read_csv('https://raw.githubusercontent.com/artamonoff/Econometrica/master/python-notebooks/data-csv/Labour.csv')\n",
    "df.head()"
   ]
  },
  {
   "cell_type": "markdown",
   "id": "39881db1",
   "metadata": {},
   "source": [
    "# Способ оценивания через спецификацию"
   ]
  },
  {
   "cell_type": "code",
   "execution_count": 4,
   "id": "1e5bd00d",
   "metadata": {},
   "outputs": [
    {
     "data": {
      "text/plain": [
       "Intercept         -1.711\n",
       "np.log(capital)    0.208\n",
       "np.log(labour)     0.715\n",
       "dtype: float64"
      ]
     },
     "execution_count": 4,
     "metadata": {},
     "output_type": "execute_result"
    }
   ],
   "source": [
    "# специфицируем модель через формулу\n",
    "output_eq1 = smf.ols(formula='np.log(output)~np.log(capital)+np.log(labour)', data=df).fit()\n",
    "# Коэфициенты модели с округление\n",
    "output_eq1.params.round(3)"
   ]
  },
  {
   "cell_type": "markdown",
   "id": "d0153146",
   "metadata": {},
   "source": [
    "# Интерпретация модели"
   ]
  },
  {
   "cell_type": "markdown",
   "id": "1a0d25f4",
   "metadata": {},
   "source": [
    "При увеличении капитала на 1%, выпуск увеличивается на 0.208%\n",
    "При увеличении количества рабочих на 1%, выпуска возрастает на 0.715% при прочих равных условиях"
   ]
  },
  {
   "cell_type": "markdown",
   "id": "149289a7",
   "metadata": {},
   "source": [
    "# Output Equation (Модель 2)"
   ]
  },
  {
   "cell_type": "markdown",
   "id": "bf03d954",
   "metadata": {},
   "source": [
    "На датасете Labour рассмотрим региессию log(output) на log(capital), log(labour), log(wage)"
   ]
  },
  {
   "cell_type": "markdown",
   "id": "ff452ae2",
   "metadata": {},
   "source": [
    "Спецификация: $$ log(output) = \\beta_0 + \\beta_1log(capital) + \\beta_2log(labour) + \\beta_3log(wage) + u $$"
   ]
  },
  {
   "cell_type": "markdown",
   "id": "bd398cd8",
   "metadata": {},
   "source": [
    "# Способ оценивания через спецификацию"
   ]
  },
  {
   "cell_type": "code",
   "execution_count": 6,
   "id": "447ddb76",
   "metadata": {},
   "outputs": [
    {
     "data": {
      "text/plain": [
       "Intercept         -5.007\n",
       "np.log(capital)    0.149\n",
       "np.log(labour)     0.720\n",
       "np.log(wage)       0.921\n",
       "dtype: float64"
      ]
     },
     "execution_count": 6,
     "metadata": {},
     "output_type": "execute_result"
    }
   ],
   "source": [
    "# специфицируем модель через формулу\n",
    "output_eq1 = smf.ols(formula='np.log(output)~np.log(capital)+np.log(labour)+np.log(wage)', data=df).fit()\n",
    "# Коэфициенты модели с округление\n",
    "output_eq1.params.round(3)"
   ]
  },
  {
   "cell_type": "markdown",
   "id": "bd416945",
   "metadata": {},
   "source": [
    "# Интерпретация модели"
   ]
  },
  {
   "cell_type": "markdown",
   "id": "84b868a6",
   "metadata": {},
   "source": [
    "При увеличении количества рабочих на 1%, выпуск возрастает на 0.72%\n",
    "При увеличении капитала на 1%, выпуск увеличивается на 0.149%, при прочих равных"
   ]
  },
  {
   "cell_type": "code",
   "execution_count": null,
   "id": "89710656",
   "metadata": {},
   "outputs": [],
   "source": []
  }
 ],
 "metadata": {
  "kernelspec": {
   "display_name": "Python 3 (ipykernel)",
   "language": "python",
   "name": "python3"
  },
  "language_info": {
   "codemirror_mode": {
    "name": "ipython",
    "version": 3
   },
   "file_extension": ".py",
   "mimetype": "text/x-python",
   "name": "python",
   "nbconvert_exporter": "python",
   "pygments_lexer": "ipython3",
   "version": "3.9.13"
  }
 },
 "nbformat": 4,
 "nbformat_minor": 5
}
