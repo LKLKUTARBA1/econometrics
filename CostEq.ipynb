{
 "cells": [
  {
   "cell_type": "markdown",
   "id": "1d753a5c",
   "metadata": {},
   "source": [
    "# Задачи по Эконометрике: Интерпретация коэффициентов"
   ]
  },
  {
   "cell_type": "markdown",
   "id": "7d08c295",
   "metadata": {},
   "source": [
    "Кутарба Лучия "
   ]
  },
  {
   "cell_type": "markdown",
   "id": "3de790c8",
   "metadata": {},
   "source": [
    "# Cost Equation\n"
   ]
  },
  {
   "cell_type": "markdown",
   "id": "04a13a67",
   "metadata": {},
   "source": [
    "# Cost Equation (Модель 1)"
   ]
  },
  {
   "cell_type": "markdown",
   "id": "f4b94336",
   "metadata": {},
   "source": [
    "На датасете Electricity рассмотрим региессию log(cost) на log(q)"
   ]
  },
  {
   "cell_type": "markdown",
   "id": "0e2a8dc2",
   "metadata": {},
   "source": [
    "Спецификация: $$ log(cost) = \\beta_0 + \\beta_1log(q) + u $$"
   ]
  },
  {
   "cell_type": "code",
   "execution_count": 5,
   "id": "cef08788",
   "metadata": {},
   "outputs": [],
   "source": [
    "import numpy as np # linear algebra \n",
    "import pandas as pd # data processing, CSV file I/O (e.g. pd.read_csv)\n",
    "# stats models: regression fitting via formulas\n",
    "import statsmodels.formula.api as smf\n",
    "# stats models: regression fitting via matrices of regression design\n",
    "import statsmodels.api as sm"
   ]
  },
  {
   "cell_type": "code",
   "execution_count": 6,
   "id": "0b95392d",
   "metadata": {},
   "outputs": [
    {
     "data": {
      "text/html": [
       "<div>\n",
       "<style scoped>\n",
       "    .dataframe tbody tr th:only-of-type {\n",
       "        vertical-align: middle;\n",
       "    }\n",
       "\n",
       "    .dataframe tbody tr th {\n",
       "        vertical-align: top;\n",
       "    }\n",
       "\n",
       "    .dataframe thead th {\n",
       "        text-align: right;\n",
       "    }\n",
       "</style>\n",
       "<table border=\"1\" class=\"dataframe\">\n",
       "  <thead>\n",
       "    <tr style=\"text-align: right;\">\n",
       "      <th></th>\n",
       "      <th>cost</th>\n",
       "      <th>q</th>\n",
       "      <th>pl</th>\n",
       "      <th>sl</th>\n",
       "      <th>pk</th>\n",
       "      <th>sk</th>\n",
       "      <th>pf</th>\n",
       "      <th>sf</th>\n",
       "    </tr>\n",
       "  </thead>\n",
       "  <tbody>\n",
       "    <tr>\n",
       "      <th>0</th>\n",
       "      <td>0.2130</td>\n",
       "      <td>8.0</td>\n",
       "      <td>6869.47</td>\n",
       "      <td>0.3291</td>\n",
       "      <td>64.945</td>\n",
       "      <td>0.4197</td>\n",
       "      <td>18.000</td>\n",
       "      <td>0.2512</td>\n",
       "    </tr>\n",
       "    <tr>\n",
       "      <th>1</th>\n",
       "      <td>3.0427</td>\n",
       "      <td>869.0</td>\n",
       "      <td>8372.96</td>\n",
       "      <td>0.1030</td>\n",
       "      <td>68.227</td>\n",
       "      <td>0.2913</td>\n",
       "      <td>21.067</td>\n",
       "      <td>0.6057</td>\n",
       "    </tr>\n",
       "    <tr>\n",
       "      <th>2</th>\n",
       "      <td>9.4059</td>\n",
       "      <td>1412.0</td>\n",
       "      <td>7960.90</td>\n",
       "      <td>0.0891</td>\n",
       "      <td>40.692</td>\n",
       "      <td>0.1567</td>\n",
       "      <td>41.530</td>\n",
       "      <td>0.7542</td>\n",
       "    </tr>\n",
       "    <tr>\n",
       "      <th>3</th>\n",
       "      <td>0.7606</td>\n",
       "      <td>65.0</td>\n",
       "      <td>8971.89</td>\n",
       "      <td>0.2802</td>\n",
       "      <td>41.243</td>\n",
       "      <td>0.1282</td>\n",
       "      <td>28.539</td>\n",
       "      <td>0.5916</td>\n",
       "    </tr>\n",
       "    <tr>\n",
       "      <th>4</th>\n",
       "      <td>2.2587</td>\n",
       "      <td>295.0</td>\n",
       "      <td>8218.40</td>\n",
       "      <td>0.1772</td>\n",
       "      <td>71.940</td>\n",
       "      <td>0.1623</td>\n",
       "      <td>39.200</td>\n",
       "      <td>0.6606</td>\n",
       "    </tr>\n",
       "  </tbody>\n",
       "</table>\n",
       "</div>"
      ],
      "text/plain": [
       "     cost       q       pl      sl      pk      sk      pf      sf\n",
       "0  0.2130     8.0  6869.47  0.3291  64.945  0.4197  18.000  0.2512\n",
       "1  3.0427   869.0  8372.96  0.1030  68.227  0.2913  21.067  0.6057\n",
       "2  9.4059  1412.0  7960.90  0.0891  40.692  0.1567  41.530  0.7542\n",
       "3  0.7606    65.0  8971.89  0.2802  41.243  0.1282  28.539  0.5916\n",
       "4  2.2587   295.0  8218.40  0.1772  71.940  0.1623  39.200  0.6606"
      ]
     },
     "execution_count": 6,
     "metadata": {},
     "output_type": "execute_result"
    }
   ],
   "source": [
    "df = pd.read_csv('https://raw.githubusercontent.com/artamonoff/Econometrica/master/python-notebooks/data-csv/Electricity.csv')\n",
    "df.head()"
   ]
  },
  {
   "cell_type": "markdown",
   "id": "777d004d",
   "metadata": {},
   "source": [
    "# Cпособ оценивания через спецификацию"
   ]
  },
  {
   "cell_type": "code",
   "execution_count": 7,
   "id": "639d42b2",
   "metadata": {},
   "outputs": [
    {
     "data": {
      "text/plain": [
       "Intercept   -3.841\n",
       "np.log(q)    0.836\n",
       "dtype: float64"
      ]
     },
     "execution_count": 7,
     "metadata": {},
     "output_type": "execute_result"
    }
   ],
   "source": [
    "# специфицируем модель через формулу\n",
    "cost_eq1 = smf.ols(formula='np.log(cost)~np.log(q)', data=df).fit()\n",
    "# Коэфициенты модели с округление\n",
    "cost_eq1.params.round(3)"
   ]
  },
  {
   "cell_type": "markdown",
   "id": "0563f644",
   "metadata": {},
   "source": [
    "# Интерпретация модели"
   ]
  },
  {
   "cell_type": "markdown",
   "id": "38e47538",
   "metadata": {},
   "source": [
    "1. При увеличении выпуска электроэнергии на 1%, издержки за год увеличиваются на 0.836%"
   ]
  },
  {
   "cell_type": "markdown",
   "id": "c6ea8006",
   "metadata": {},
   "source": [
    "# Cost Equation (Модель 2)"
   ]
  },
  {
   "cell_type": "markdown",
   "id": "d695880b",
   "metadata": {},
   "source": [
    "На датасете Electricity рассмотрим региессию log(cost) на log(q), log(pl), log(pf), log(pk)"
   ]
  },
  {
   "cell_type": "markdown",
   "id": "af5a3162",
   "metadata": {},
   "source": [
    "Спецификация: $$ log(cost) = \\beta_0 + \\beta_1log(q) + \\beta2log(pl) + \\beta3log(pf) + \\beta4log(pk) + u $$ "
   ]
  },
  {
   "cell_type": "markdown",
   "id": "2d02c348",
   "metadata": {},
   "source": [
    "# Cпособ оценивания через спецификацию"
   ]
  },
  {
   "cell_type": "code",
   "execution_count": 11,
   "id": "7ef4c1f4",
   "metadata": {},
   "outputs": [
    {
     "data": {
      "text/plain": [
       "Intercept    -7.472\n",
       "np.log(q)     0.838\n",
       "np.log(pl)    0.044\n",
       "np.log(pf)    0.713\n",
       "np.log(pk)    0.188\n",
       "dtype: float64"
      ]
     },
     "execution_count": 11,
     "metadata": {},
     "output_type": "execute_result"
    }
   ],
   "source": [
    "# специфицируем модель через формулу\n",
    "cost_eq1 = smf.ols(formula='np.log(cost)~np.log(q)+np.log(pl)+np.log(pf)+np.log(pk)', data=df).fit()\n",
    "# Коэфициенты модели с округление\n",
    "cost_eq1.params.round(3)"
   ]
  },
  {
   "cell_type": "markdown",
   "id": "a45ca09b",
   "metadata": {},
   "source": [
    "# Интерпретация модели"
   ]
  },
  {
   "cell_type": "markdown",
   "id": "ef1de8b9",
   "metadata": {},
   "source": [
    "1. При увеличении выпуска электроэнергии на 1%, издержки за год увеличиваются на 0.838%"
   ]
  },
  {
   "cell_type": "code",
   "execution_count": null,
   "id": "2034c46e",
   "metadata": {},
   "outputs": [],
   "source": []
  }
 ],
 "metadata": {
  "kernelspec": {
   "display_name": "Python 3 (ipykernel)",
   "language": "python",
   "name": "python3"
  },
  "language_info": {
   "codemirror_mode": {
    "name": "ipython",
    "version": 3
   },
   "file_extension": ".py",
   "mimetype": "text/x-python",
   "name": "python",
   "nbconvert_exporter": "python",
   "pygments_lexer": "ipython3",
   "version": "3.9.13"
  }
 },
 "nbformat": 4,
 "nbformat_minor": 5
}
